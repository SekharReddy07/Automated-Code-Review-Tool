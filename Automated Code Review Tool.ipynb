{
 "cells": [
  {
   "cell_type": "code",
   "execution_count": 3,
   "id": "2d2d8501",
   "metadata": {},
   "outputs": [
    {
     "name": "stdout",
     "output_type": "stream",
     "text": [
      "Requirement already satisfied: flake8 in c:\\users\\dell\\anaconda3\\lib\\site-packages (7.0.0)\n",
      "Requirement already satisfied: mccabe<0.8.0,>=0.7.0 in c:\\users\\dell\\anaconda3\\lib\\site-packages (from flake8) (0.7.0)\n",
      "Requirement already satisfied: pycodestyle<2.12.0,>=2.11.0 in c:\\users\\dell\\anaconda3\\lib\\site-packages (from flake8) (2.11.1)\n",
      "Requirement already satisfied: pyflakes<3.3.0,>=3.2.0 in c:\\users\\dell\\anaconda3\\lib\\site-packages (from flake8) (3.2.0)\n"
     ]
    }
   ],
   "source": [
    "!pip install flake8\n"
   ]
  },
  {
   "cell_type": "code",
   "execution_count": 2,
   "id": "31f04abd",
   "metadata": {},
   "outputs": [
    {
     "name": "stdout",
     "output_type": "stream",
     "text": [
      "File: error.py\n",
      "  Line: 1\n",
      "  Code: 14: E231 missing whitespace after ','\n",
      "\n",
      "File: error.py\n",
      "  Line: 3\n",
      "  Code: 1: E305 expected 2 blank lines after class or function definition, found 0\n",
      "\n",
      "File: error.py\n",
      "  Line: 3\n",
      "  Code: 2: E225 missing whitespace around operator\n",
      "\n",
      "File: error.py\n",
      "  Line: 4\n",
      "  Code: 2: E225 missing whitespace around operator\n",
      "\n",
      "File: error.py\n",
      "  Line: 4\n",
      "  Code: 5: E231 missing whitespace after ','\n",
      "\n",
      "File: error.py\n",
      "  Line: 5\n",
      "  Code: 16: E231 missing whitespace after ','\n",
      "\n",
      "File: error.py\n",
      "  Line: 5\n",
      "  Code: 20: W292 no newline at end of file\n",
      "\n",
      "\n",
      "Total errors found: 7\n"
     ]
    }
   ],
   "source": [
    "import subprocess\n",
    "import os\n",
    "from urllib.parse import urlparse\n",
    "\n",
    "def handle_url(file_path):\n",
    "    \n",
    "    if urlparse(file_path).scheme:\n",
    "        return urlparse(file_path).path\n",
    "    else:\n",
    "        return file_path.strip()\n",
    "\n",
    "def code_review(directory):\n",
    "    try:\n",
    "        \n",
    "        result = subprocess.run([\"flake8\", directory], stdout=subprocess.PIPE, stderr=subprocess.PIPE, text=True)\n",
    "\n",
    "        \n",
    "        if result.returncode != 0:\n",
    "            error_lines = result.stdout.splitlines()\n",
    "\n",
    "            \n",
    "            for line in error_lines:\n",
    "                if line:\n",
    "                    parts = line.split(\":\", maxsplit=2)\n",
    "                    if len(parts) == 3:\n",
    "                        file_path, line_number, error_message = parts\n",
    "                        file_path = handle_url(file_path)\n",
    "                        print(f\"File: {file_path}\")\n",
    "                        print(f\"  Line: {line_number}\")\n",
    "                        print(f\"  Code: {error_message}\")\n",
    "                        print()\n",
    "\n",
    "            return len(error_lines)\n",
    "        else:\n",
    "            print(\"Congratulations! No flake8 errors found in your code.\")\n",
    "            return 0\n",
    "\n",
    "    except subprocess.CalledProcessError as e:\n",
    "        print(f\"Error running flake8: {e}\")\n",
    "        return -1\n",
    "\n",
    "\n",
    "directory = \"error.py\"\n",
    "\n",
    "\n",
    "num_errors = code_review(directory)\n",
    "if num_errors >= 0:\n",
    "    print(f\"\\nTotal errors found: {num_errors}\")\n"
   ]
  },
  {
   "cell_type": "code",
   "execution_count": null,
   "id": "2d8c8f69",
   "metadata": {},
   "outputs": [],
   "source": []
  }
 ],
 "metadata": {
  "kernelspec": {
   "display_name": "Python 3 (ipykernel)",
   "language": "python",
   "name": "python3"
  },
  "language_info": {
   "codemirror_mode": {
    "name": "ipython",
    "version": 3
   },
   "file_extension": ".py",
   "mimetype": "text/x-python",
   "name": "python",
   "nbconvert_exporter": "python",
   "pygments_lexer": "ipython3",
   "version": "3.11.5"
  }
 },
 "nbformat": 4,
 "nbformat_minor": 5
}
